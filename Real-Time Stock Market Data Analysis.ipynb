{
 "cells": [
  {
   "cell_type": "markdown",
   "metadata": {
    "application/vnd.databricks.v1+cell": {
     "cellMetadata": {},
     "inputWidgets": {},
     "nuid": "ff0df4ce-ffb1-4a16-8ca8-7a8274bb28cc",
     "showTitle": false,
     "tableResultSettingsMap": {},
     "title": ""
    }
   },
   "source": [
    " requests – Calls the stock API to get real-time data\n",
    "🔹 pandas – Stores stock data before processing\n",
    "🔹 PySpark (SparkSession, functions) – Handles big data processing\n",
    "🔹 Plotly Express – Creates interactive visualizations"
   ]
  },
  {
   "cell_type": "code",
   "execution_count": 0,
   "metadata": {
    "application/vnd.databricks.v1+cell": {
     "cellMetadata": {
      "byteLimit": 2048000,
      "rowLimit": 10000
     },
     "inputWidgets": {},
     "nuid": "129d3bcf-f68b-44f5-bf7e-ba5766c873f9",
     "showTitle": false,
     "tableResultSettingsMap": {},
     "title": ""
    }
   },
   "outputs": [],
   "source": [
    "import requests\n",
    "import pandas as pd\n",
    "from pyspark.sql import SparkSession\n",
    "from pyspark.sql.functions import col, avg, window\n",
    "import plotly.express as px\n",
    "import time\n",
    "\n",
    "# Initialize Spark Session\n",
    "spark = SparkSession.builder.appName(\"StockMarketPipeline\").getOrCreate()\n",
    "\n",
    "# Alpha Vantage API details\n",
    "API_KEY = \"YOUR_ALPHA_VANTAGE_API_KEY\"\n",
    "STOCK_SYMBOL = \"AAPL\"\n",
    "BASE_URL = \"https://www.alphavantage.co/query\"\n"
   ]
  },
  {
   "cell_type": "code",
   "execution_count": 0,
   "metadata": {
    "application/vnd.databricks.v1+cell": {
     "cellMetadata": {
      "byteLimit": 2048000,
      "rowLimit": 10000
     },
     "inputWidgets": {},
     "nuid": "7a43cc19-7037-4470-b0af-a9a87c7e38f3",
     "showTitle": false,
     "tableResultSettingsMap": {},
     "title": ""
    }
   },
   "outputs": [],
   "source": [
    "# Function to fetch real-time stock data\n",
    "def fetch_stock_data(symbol, api_key):\n",
    "    params = {\n",
    "        \"function\": \"TIME_SERIES_INTRADAY\",\n",
    "        \"symbol\": symbol,\n",
    "        \"interval\": \"5min\",\n",
    "        \"apikey\": api_key\n",
    "    }\n",
    "    response = requests.get(BASE_URL, params=params)\n",
    "    data = response.json()\n",
    "    \n",
    "    if \"Time Series (5min)\" not in data:\n",
    "        return None\n",
    "    \n",
    "    time_series = data[\"Time Series (5min)\"]\n",
    "    records = []\n",
    "    for timestamp, values in time_series.items():\n",
    "        records.append({\n",
    "            \"datetime\": timestamp,\n",
    "            \"open\": float(values[\"1. open\"]),\n",
    "            \"high\": float(values[\"2. high\"]),\n",
    "            \"low\": float(values[\"3. low\"]),\n",
    "            \"close\": float(values[\"4. close\"]),\n",
    "            \"volume\": int(values[\"5. volume\"])\n",
    "        })\n",
    "    return pd.DataFrame(records)\n"
   ]
  },
  {
   "cell_type": "code",
   "execution_count": 0,
   "metadata": {
    "application/vnd.databricks.v1+cell": {
     "cellMetadata": {
      "byteLimit": 2048000,
      "rowLimit": 10000
     },
     "inputWidgets": {},
     "nuid": "fe0857fb-8133-43dd-810a-852453369e25",
     "showTitle": false,
     "tableResultSettingsMap": {},
     "title": ""
    }
   },
   "outputs": [
    {
     "output_type": "stream",
     "name": "stdout",
     "output_type": "stream",
     "text": [
      "Fetched Stock Data Successfully!\n"
     ]
    }
   ],
   "source": [
    "# Fetch data\n",
    "stock_df = fetch_stock_data(STOCK_SYMBOL, API_KEY)\n",
    "if stock_df is not None:\n",
    "    print(\"Fetched Stock Data Successfully!\")\n",
    "else:\n",
    "    print(\"Failed to fetch stock data.\")\n"
   ]
  },
  {
   "cell_type": "code",
   "execution_count": 0,
   "metadata": {
    "application/vnd.databricks.v1+cell": {
     "cellMetadata": {
      "byteLimit": 2048000,
      "rowLimit": 10000
     },
     "inputWidgets": {},
     "nuid": "856d03dc-9bcb-4e0e-addd-4c7902b75334",
     "showTitle": false,
     "tableResultSettingsMap": {},
     "title": ""
    }
   },
   "outputs": [],
   "source": [
    "# Convert Pandas DataFrame to Spark DataFrame\n",
    "spark_df = spark.createDataFrame(stock_df)"
   ]
  },
  {
   "cell_type": "code",
   "execution_count": 0,
   "metadata": {
    "application/vnd.databricks.v1+cell": {
     "cellMetadata": {
      "byteLimit": 2048000,
      "rowLimit": 10000
     },
     "inputWidgets": {},
     "nuid": "8f537f74-61a7-4b0c-85db-cd4ffc4ed697",
     "showTitle": false,
     "tableResultSettingsMap": {},
     "title": ""
    }
   },
   "outputs": [
    {
     "output_type": "stream",
     "name": "stdout",
     "output_type": "stream",
     "text": [
      "+--------------------+---------+\n|              window|avg_close|\n+--------------------+---------+\n|{2025-03-25 19:15...|   224.07|\n|{2025-03-25 19:10...|   224.07|\n|{2025-03-25 19:50...|    224.1|\n|{2025-03-25 19:30...|    224.1|\n|{2025-03-25 19:35...| 224.0701|\n|{2025-03-25 19:00...|   224.02|\n|{2025-03-25 19:25...|    224.1|\n|{2025-03-25 19:20...|   224.02|\n|{2025-03-25 19:40...|   224.07|\n|{2025-03-25 19:55...|   224.24|\n|{2025-03-25 19:45...|   224.28|\n|{2025-03-25 19:05...|   224.07|\n|{2025-03-25 18:50...|   224.07|\n|{2025-03-25 18:30...|   223.96|\n|{2025-03-25 18:10...| 223.9999|\n|{2025-03-25 18:15...|    224.1|\n|{2025-03-25 18:00...|    223.9|\n|{2025-03-25 18:40...|   224.07|\n|{2025-03-25 17:55...|    223.9|\n|{2025-03-25 18:25...|    224.0|\n+--------------------+---------+\nonly showing top 20 rows\n\n"
     ]
    }
   ],
   "source": [
    "# Process data in Databricks using PySpark\n",
    "processed_df = spark_df.withColumn(\"close\", col(\"close\").cast(\"double\"))\n",
    "windowed_df = processed_df.groupBy(window(col(\"datetime\"), \"5 minutes\")).agg(avg(\"close\").alias(\"avg_close\"))\n",
    "\n",
    "# Show processed data\n",
    "windowed_df.show()\n"
   ]
  },
  {
   "cell_type": "code",
   "execution_count": 0,
   "metadata": {
    "application/vnd.databricks.v1+cell": {
     "cellMetadata": {
      "byteLimit": 2048000,
      "rowLimit": 10000
     },
     "inputWidgets": {},
     "nuid": "71fc92d1-674c-496f-8b73-233352be4007",
     "showTitle": false,
     "tableResultSettingsMap": {},
     "title": ""
    }
   },
   "outputs": [],
   "source": [
    "\n",
    "# Convert Spark DataFrame to Pandas for visualization\n",
    "pandas_df = windowed_df.toPandas()"
   ]
  },
  {
   "cell_type": "code",
   "execution_count": 0,
   "metadata": {
    "application/vnd.databricks.v1+cell": {
     "cellMetadata": {
      "byteLimit": 2048000,
      "rowLimit": 10000
     },
     "inputWidgets": {},
     "nuid": "10ea80ea-b2af-4f82-92b8-7edd2cf092a8",
     "showTitle": false,
     "tableResultSettingsMap": {},
     "title": ""
    }
   },
   "outputs": [
    {
     "output_type": "display_data",
     "data": {
      "text/html": [
       "<html>\n",
       "<head><meta charset=\"utf-8\" /></head>\n",
       "<body>\n",
       "    <div>            <script src=\"https://cdnjs.cloudflare.com/ajax/libs/mathjax/2.7.5/MathJax.js?config=TeX-AMS-MML_SVG\"></script><script type=\"text/javascript\">if (window.MathJax) {MathJax.Hub.Config({SVG: {font: \"STIX-Web\"}});}</script>                <script type=\"text/javascript\">window.PlotlyConfig = {MathJaxConfig: 'local'};</script>\n",
       "        <script src=\"https://cdn.plot.ly/plotly-2.9.0.min.js\"></script>                <div id=\"7ca6b55d-61b8-4a8c-8b4c-7c00bb892c0f\" class=\"plotly-graph-div\" style=\"height:100%; width:100%;\"></div>            <script type=\"text/javascript\">                                    window.PLOTLYENV=window.PLOTLYENV || {};                                    if (document.getElementById(\"7ca6b55d-61b8-4a8c-8b4c-7c00bb892c0f\")) {                    Plotly.newPlot(                        \"7ca6b55d-61b8-4a8c-8b4c-7c00bb892c0f\",                        [{\"hovertemplate\":\"window=%{x}<br>avg_close=%{y}<extra></extra>\",\"legendgroup\":\"\",\"line\":{\"color\":\"#636efa\",\"dash\":\"solid\"},\"marker\":{\"symbol\":\"circle\"},\"mode\":\"lines+markers\",\"name\":\"\",\"orientation\":\"v\",\"showlegend\":false,\"x\":[\"{'start': datetime.datetime(2025, 3, 25, 19, 15), 'end': datetime.datetime(2025, 3, 25, 19, 20)}\",\"{'start': datetime.datetime(2025, 3, 25, 19, 10), 'end': datetime.datetime(2025, 3, 25, 19, 15)}\",\"{'start': datetime.datetime(2025, 3, 25, 19, 50), 'end': datetime.datetime(2025, 3, 25, 19, 55)}\",\"{'start': datetime.datetime(2025, 3, 25, 19, 30), 'end': datetime.datetime(2025, 3, 25, 19, 35)}\",\"{'start': datetime.datetime(2025, 3, 25, 19, 35), 'end': datetime.datetime(2025, 3, 25, 19, 40)}\",\"{'start': datetime.datetime(2025, 3, 25, 19, 0), 'end': datetime.datetime(2025, 3, 25, 19, 5)}\",\"{'start': datetime.datetime(2025, 3, 25, 19, 25), 'end': datetime.datetime(2025, 3, 25, 19, 30)}\",\"{'start': datetime.datetime(2025, 3, 25, 19, 20), 'end': datetime.datetime(2025, 3, 25, 19, 25)}\",\"{'start': datetime.datetime(2025, 3, 25, 19, 40), 'end': datetime.datetime(2025, 3, 25, 19, 45)}\",\"{'start': datetime.datetime(2025, 3, 25, 19, 55), 'end': datetime.datetime(2025, 3, 25, 20, 0)}\",\"{'start': datetime.datetime(2025, 3, 25, 19, 45), 'end': datetime.datetime(2025, 3, 25, 19, 50)}\",\"{'start': datetime.datetime(2025, 3, 25, 19, 5), 'end': datetime.datetime(2025, 3, 25, 19, 10)}\",\"{'start': datetime.datetime(2025, 3, 25, 18, 50), 'end': datetime.datetime(2025, 3, 25, 18, 55)}\",\"{'start': datetime.datetime(2025, 3, 25, 18, 30), 'end': datetime.datetime(2025, 3, 25, 18, 35)}\",\"{'start': datetime.datetime(2025, 3, 25, 18, 10), 'end': datetime.datetime(2025, 3, 25, 18, 15)}\",\"{'start': datetime.datetime(2025, 3, 25, 18, 15), 'end': datetime.datetime(2025, 3, 25, 18, 20)}\",\"{'start': datetime.datetime(2025, 3, 25, 18, 0), 'end': datetime.datetime(2025, 3, 25, 18, 5)}\",\"{'start': datetime.datetime(2025, 3, 25, 18, 40), 'end': datetime.datetime(2025, 3, 25, 18, 45)}\",\"{'start': datetime.datetime(2025, 3, 25, 17, 55), 'end': datetime.datetime(2025, 3, 25, 18, 0)}\",\"{'start': datetime.datetime(2025, 3, 25, 18, 25), 'end': datetime.datetime(2025, 3, 25, 18, 30)}\",\"{'start': datetime.datetime(2025, 3, 25, 18, 45), 'end': datetime.datetime(2025, 3, 25, 18, 50)}\",\"{'start': datetime.datetime(2025, 3, 25, 18, 55), 'end': datetime.datetime(2025, 3, 25, 19, 0)}\",\"{'start': datetime.datetime(2025, 3, 25, 18, 20), 'end': datetime.datetime(2025, 3, 25, 18, 25)}\",\"{'start': datetime.datetime(2025, 3, 25, 18, 5), 'end': datetime.datetime(2025, 3, 25, 18, 10)}\",\"{'start': datetime.datetime(2025, 3, 25, 18, 35), 'end': datetime.datetime(2025, 3, 25, 18, 40)}\",\"{'start': datetime.datetime(2025, 3, 25, 17, 20), 'end': datetime.datetime(2025, 3, 25, 17, 25)}\",\"{'start': datetime.datetime(2025, 3, 25, 17, 30), 'end': datetime.datetime(2025, 3, 25, 17, 35)}\",\"{'start': datetime.datetime(2025, 3, 25, 17, 25), 'end': datetime.datetime(2025, 3, 25, 17, 30)}\",\"{'start': datetime.datetime(2025, 3, 25, 17, 5), 'end': datetime.datetime(2025, 3, 25, 17, 10)}\",\"{'start': datetime.datetime(2025, 3, 25, 16, 55), 'end': datetime.datetime(2025, 3, 25, 17, 0)}\",\"{'start': datetime.datetime(2025, 3, 25, 17, 0), 'end': datetime.datetime(2025, 3, 25, 17, 5)}\",\"{'start': datetime.datetime(2025, 3, 25, 17, 35), 'end': datetime.datetime(2025, 3, 25, 17, 40)}\",\"{'start': datetime.datetime(2025, 3, 25, 17, 10), 'end': datetime.datetime(2025, 3, 25, 17, 15)}\",\"{'start': datetime.datetime(2025, 3, 25, 17, 40), 'end': datetime.datetime(2025, 3, 25, 17, 45)}\",\"{'start': datetime.datetime(2025, 3, 25, 17, 45), 'end': datetime.datetime(2025, 3, 25, 17, 50)}\",\"{'start': datetime.datetime(2025, 3, 25, 17, 15), 'end': datetime.datetime(2025, 3, 25, 17, 20)}\",\"{'start': datetime.datetime(2025, 3, 25, 17, 50), 'end': datetime.datetime(2025, 3, 25, 17, 55)}\",\"{'start': datetime.datetime(2025, 3, 25, 16, 0), 'end': datetime.datetime(2025, 3, 25, 16, 5)}\",\"{'start': datetime.datetime(2025, 3, 25, 16, 10), 'end': datetime.datetime(2025, 3, 25, 16, 15)}\",\"{'start': datetime.datetime(2025, 3, 25, 16, 35), 'end': datetime.datetime(2025, 3, 25, 16, 40)}\",\"{'start': datetime.datetime(2025, 3, 25, 15, 50), 'end': datetime.datetime(2025, 3, 25, 15, 55)}\",\"{'start': datetime.datetime(2025, 3, 25, 16, 15), 'end': datetime.datetime(2025, 3, 25, 16, 20)}\",\"{'start': datetime.datetime(2025, 3, 25, 16, 30), 'end': datetime.datetime(2025, 3, 25, 16, 35)}\",\"{'start': datetime.datetime(2025, 3, 25, 16, 45), 'end': datetime.datetime(2025, 3, 25, 16, 50)}\",\"{'start': datetime.datetime(2025, 3, 25, 16, 5), 'end': datetime.datetime(2025, 3, 25, 16, 10)}\",\"{'start': datetime.datetime(2025, 3, 25, 16, 50), 'end': datetime.datetime(2025, 3, 25, 16, 55)}\",\"{'start': datetime.datetime(2025, 3, 25, 16, 25), 'end': datetime.datetime(2025, 3, 25, 16, 30)}\",\"{'start': datetime.datetime(2025, 3, 25, 15, 55), 'end': datetime.datetime(2025, 3, 25, 16, 0)}\",\"{'start': datetime.datetime(2025, 3, 25, 16, 20), 'end': datetime.datetime(2025, 3, 25, 16, 25)}\",\"{'start': datetime.datetime(2025, 3, 25, 16, 40), 'end': datetime.datetime(2025, 3, 25, 16, 45)}\",\"{'start': datetime.datetime(2025, 3, 25, 15, 35), 'end': datetime.datetime(2025, 3, 25, 15, 40)}\",\"{'start': datetime.datetime(2025, 3, 25, 15, 10), 'end': datetime.datetime(2025, 3, 25, 15, 15)}\",\"{'start': datetime.datetime(2025, 3, 25, 15, 30), 'end': datetime.datetime(2025, 3, 25, 15, 35)}\",\"{'start': datetime.datetime(2025, 3, 25, 15, 25), 'end': datetime.datetime(2025, 3, 25, 15, 30)}\",\"{'start': datetime.datetime(2025, 3, 25, 15, 40), 'end': datetime.datetime(2025, 3, 25, 15, 45)}\",\"{'start': datetime.datetime(2025, 3, 25, 15, 15), 'end': datetime.datetime(2025, 3, 25, 15, 20)}\",\"{'start': datetime.datetime(2025, 3, 25, 14, 50), 'end': datetime.datetime(2025, 3, 25, 14, 55)}\",\"{'start': datetime.datetime(2025, 3, 25, 14, 55), 'end': datetime.datetime(2025, 3, 25, 15, 0)}\",\"{'start': datetime.datetime(2025, 3, 25, 15, 20), 'end': datetime.datetime(2025, 3, 25, 15, 25)}\",\"{'start': datetime.datetime(2025, 3, 25, 15, 45), 'end': datetime.datetime(2025, 3, 25, 15, 50)}\",\"{'start': datetime.datetime(2025, 3, 25, 15, 0), 'end': datetime.datetime(2025, 3, 25, 15, 5)}\",\"{'start': datetime.datetime(2025, 3, 25, 15, 5), 'end': datetime.datetime(2025, 3, 25, 15, 10)}\",\"{'start': datetime.datetime(2025, 3, 25, 14, 25), 'end': datetime.datetime(2025, 3, 25, 14, 30)}\",\"{'start': datetime.datetime(2025, 3, 25, 13, 50), 'end': datetime.datetime(2025, 3, 25, 13, 55)}\",\"{'start': datetime.datetime(2025, 3, 25, 14, 30), 'end': datetime.datetime(2025, 3, 25, 14, 35)}\",\"{'start': datetime.datetime(2025, 3, 25, 13, 55), 'end': datetime.datetime(2025, 3, 25, 14, 0)}\",\"{'start': datetime.datetime(2025, 3, 25, 13, 45), 'end': datetime.datetime(2025, 3, 25, 13, 50)}\",\"{'start': datetime.datetime(2025, 3, 25, 14, 35), 'end': datetime.datetime(2025, 3, 25, 14, 40)}\",\"{'start': datetime.datetime(2025, 3, 25, 14, 0), 'end': datetime.datetime(2025, 3, 25, 14, 5)}\",\"{'start': datetime.datetime(2025, 3, 25, 14, 20), 'end': datetime.datetime(2025, 3, 25, 14, 25)}\",\"{'start': datetime.datetime(2025, 3, 25, 14, 40), 'end': datetime.datetime(2025, 3, 25, 14, 45)}\",\"{'start': datetime.datetime(2025, 3, 25, 14, 10), 'end': datetime.datetime(2025, 3, 25, 14, 15)}\",\"{'start': datetime.datetime(2025, 3, 25, 14, 45), 'end': datetime.datetime(2025, 3, 25, 14, 50)}\",\"{'start': datetime.datetime(2025, 3, 25, 14, 15), 'end': datetime.datetime(2025, 3, 25, 14, 20)}\",\"{'start': datetime.datetime(2025, 3, 25, 14, 5), 'end': datetime.datetime(2025, 3, 25, 14, 10)}\",\"{'start': datetime.datetime(2025, 3, 25, 13, 30), 'end': datetime.datetime(2025, 3, 25, 13, 35)}\",\"{'start': datetime.datetime(2025, 3, 25, 12, 50), 'end': datetime.datetime(2025, 3, 25, 12, 55)}\",\"{'start': datetime.datetime(2025, 3, 25, 13, 0), 'end': datetime.datetime(2025, 3, 25, 13, 5)}\",\"{'start': datetime.datetime(2025, 3, 25, 13, 35), 'end': datetime.datetime(2025, 3, 25, 13, 40)}\",\"{'start': datetime.datetime(2025, 3, 25, 13, 40), 'end': datetime.datetime(2025, 3, 25, 13, 45)}\",\"{'start': datetime.datetime(2025, 3, 25, 13, 10), 'end': datetime.datetime(2025, 3, 25, 13, 15)}\",\"{'start': datetime.datetime(2025, 3, 25, 13, 20), 'end': datetime.datetime(2025, 3, 25, 13, 25)}\",\"{'start': datetime.datetime(2025, 3, 25, 13, 5), 'end': datetime.datetime(2025, 3, 25, 13, 10)}\",\"{'start': datetime.datetime(2025, 3, 25, 12, 45), 'end': datetime.datetime(2025, 3, 25, 12, 50)}\",\"{'start': datetime.datetime(2025, 3, 25, 13, 25), 'end': datetime.datetime(2025, 3, 25, 13, 30)}\",\"{'start': datetime.datetime(2025, 3, 25, 13, 15), 'end': datetime.datetime(2025, 3, 25, 13, 20)}\",\"{'start': datetime.datetime(2025, 3, 25, 12, 55), 'end': datetime.datetime(2025, 3, 25, 13, 0)}\",\"{'start': datetime.datetime(2025, 3, 25, 12, 35), 'end': datetime.datetime(2025, 3, 25, 12, 40)}\",\"{'start': datetime.datetime(2025, 3, 25, 12, 10), 'end': datetime.datetime(2025, 3, 25, 12, 15)}\",\"{'start': datetime.datetime(2025, 3, 25, 12, 0), 'end': datetime.datetime(2025, 3, 25, 12, 5)}\",\"{'start': datetime.datetime(2025, 3, 25, 11, 40), 'end': datetime.datetime(2025, 3, 25, 11, 45)}\",\"{'start': datetime.datetime(2025, 3, 25, 12, 40), 'end': datetime.datetime(2025, 3, 25, 12, 45)}\",\"{'start': datetime.datetime(2025, 3, 25, 12, 5), 'end': datetime.datetime(2025, 3, 25, 12, 10)}\",\"{'start': datetime.datetime(2025, 3, 25, 11, 55), 'end': datetime.datetime(2025, 3, 25, 12, 0)}\",\"{'start': datetime.datetime(2025, 3, 25, 12, 30), 'end': datetime.datetime(2025, 3, 25, 12, 35)}\",\"{'start': datetime.datetime(2025, 3, 25, 12, 20), 'end': datetime.datetime(2025, 3, 25, 12, 25)}\",\"{'start': datetime.datetime(2025, 3, 25, 12, 15), 'end': datetime.datetime(2025, 3, 25, 12, 20)}\",\"{'start': datetime.datetime(2025, 3, 25, 11, 45), 'end': datetime.datetime(2025, 3, 25, 11, 50)}\",\"{'start': datetime.datetime(2025, 3, 25, 12, 25), 'end': datetime.datetime(2025, 3, 25, 12, 30)}\",\"{'start': datetime.datetime(2025, 3, 25, 11, 50), 'end': datetime.datetime(2025, 3, 25, 11, 55)}\"],\"xaxis\":\"x\",\"y\":[224.07,224.07,224.1,224.1,224.0701,224.02,224.1,224.02,224.07,224.24,224.28,224.07,224.07,223.96,223.9999,224.1,223.9,224.07,223.9,224.0,224.1,224.01,224.1,223.89,224.05,223.8,223.8,223.87,223.82,223.66,223.79,223.91,223.8,223.95,223.96,223.82,223.95,223.73,223.55,223.86,223.67,223.52,223.85,223.75,223.7,223.738,223.7,223.73,223.67,223.75,223.68,223.2,223.45,223.39,223.77,223.16,222.99,222.8029,223.545,223.925,222.9356,223.065,223.49,223.0602,223.67,222.985,222.715,223.335,223.18,223.67,223.21,223.78,223.0792,223.73,223.565,222.7016,223.14,223.36,222.745,222.8737,223.465,223.04,223.555,223.12,222.81,223.1287,223.1,223.1494,223.3961,223.2753,223.395,223.165,223.24,223.5369,222.92,223.1745,223.14,223.445,223.11,223.409],\"yaxis\":\"y\",\"type\":\"scatter\"}],                        {\"template\":{\"data\":{\"bar\":[{\"error_x\":{\"color\":\"#2a3f5f\"},\"error_y\":{\"color\":\"#2a3f5f\"},\"marker\":{\"line\":{\"color\":\"#E5ECF6\",\"width\":0.5},\"pattern\":{\"fillmode\":\"overlay\",\"size\":10,\"solidity\":0.2}},\"type\":\"bar\"}],\"barpolar\":[{\"marker\":{\"line\":{\"color\":\"#E5ECF6\",\"width\":0.5},\"pattern\":{\"fillmode\":\"overlay\",\"size\":10,\"solidity\":0.2}},\"type\":\"barpolar\"}],\"carpet\":[{\"aaxis\":{\"endlinecolor\":\"#2a3f5f\",\"gridcolor\":\"white\",\"linecolor\":\"white\",\"minorgridcolor\":\"white\",\"startlinecolor\":\"#2a3f5f\"},\"baxis\":{\"endlinecolor\":\"#2a3f5f\",\"gridcolor\":\"white\",\"linecolor\":\"white\",\"minorgridcolor\":\"white\",\"startlinecolor\":\"#2a3f5f\"},\"type\":\"carpet\"}],\"choropleth\":[{\"colorbar\":{\"outlinewidth\":0,\"ticks\":\"\"},\"type\":\"choropleth\"}],\"contour\":[{\"colorbar\":{\"outlinewidth\":0,\"ticks\":\"\"},\"colorscale\":[[0.0,\"#0d0887\"],[0.1111111111111111,\"#46039f\"],[0.2222222222222222,\"#7201a8\"],[0.3333333333333333,\"#9c179e\"],[0.4444444444444444,\"#bd3786\"],[0.5555555555555556,\"#d8576b\"],[0.6666666666666666,\"#ed7953\"],[0.7777777777777778,\"#fb9f3a\"],[0.8888888888888888,\"#fdca26\"],[1.0,\"#f0f921\"]],\"type\":\"contour\"}],\"contourcarpet\":[{\"colorbar\":{\"outlinewidth\":0,\"ticks\":\"\"},\"type\":\"contourcarpet\"}],\"heatmap\":[{\"colorbar\":{\"outlinewidth\":0,\"ticks\":\"\"},\"colorscale\":[[0.0,\"#0d0887\"],[0.1111111111111111,\"#46039f\"],[0.2222222222222222,\"#7201a8\"],[0.3333333333333333,\"#9c179e\"],[0.4444444444444444,\"#bd3786\"],[0.5555555555555556,\"#d8576b\"],[0.6666666666666666,\"#ed7953\"],[0.7777777777777778,\"#fb9f3a\"],[0.8888888888888888,\"#fdca26\"],[1.0,\"#f0f921\"]],\"type\":\"heatmap\"}],\"heatmapgl\":[{\"colorbar\":{\"outlinewidth\":0,\"ticks\":\"\"},\"colorscale\":[[0.0,\"#0d0887\"],[0.1111111111111111,\"#46039f\"],[0.2222222222222222,\"#7201a8\"],[0.3333333333333333,\"#9c179e\"],[0.4444444444444444,\"#bd3786\"],[0.5555555555555556,\"#d8576b\"],[0.6666666666666666,\"#ed7953\"],[0.7777777777777778,\"#fb9f3a\"],[0.8888888888888888,\"#fdca26\"],[1.0,\"#f0f921\"]],\"type\":\"heatmapgl\"}],\"histogram\":[{\"marker\":{\"pattern\":{\"fillmode\":\"overlay\",\"size\":10,\"solidity\":0.2}},\"type\":\"histogram\"}],\"histogram2d\":[{\"colorbar\":{\"outlinewidth\":0,\"ticks\":\"\"},\"colorscale\":[[0.0,\"#0d0887\"],[0.1111111111111111,\"#46039f\"],[0.2222222222222222,\"#7201a8\"],[0.3333333333333333,\"#9c179e\"],[0.4444444444444444,\"#bd3786\"],[0.5555555555555556,\"#d8576b\"],[0.6666666666666666,\"#ed7953\"],[0.7777777777777778,\"#fb9f3a\"],[0.8888888888888888,\"#fdca26\"],[1.0,\"#f0f921\"]],\"type\":\"histogram2d\"}],\"histogram2dcontour\":[{\"colorbar\":{\"outlinewidth\":0,\"ticks\":\"\"},\"colorscale\":[[0.0,\"#0d0887\"],[0.1111111111111111,\"#46039f\"],[0.2222222222222222,\"#7201a8\"],[0.3333333333333333,\"#9c179e\"],[0.4444444444444444,\"#bd3786\"],[0.5555555555555556,\"#d8576b\"],[0.6666666666666666,\"#ed7953\"],[0.7777777777777778,\"#fb9f3a\"],[0.8888888888888888,\"#fdca26\"],[1.0,\"#f0f921\"]],\"type\":\"histogram2dcontour\"}],\"mesh3d\":[{\"colorbar\":{\"outlinewidth\":0,\"ticks\":\"\"},\"type\":\"mesh3d\"}],\"parcoords\":[{\"line\":{\"colorbar\":{\"outlinewidth\":0,\"ticks\":\"\"}},\"type\":\"parcoords\"}],\"pie\":[{\"automargin\":true,\"type\":\"pie\"}],\"scatter\":[{\"marker\":{\"colorbar\":{\"outlinewidth\":0,\"ticks\":\"\"}},\"type\":\"scatter\"}],\"scatter3d\":[{\"line\":{\"colorbar\":{\"outlinewidth\":0,\"ticks\":\"\"}},\"marker\":{\"colorbar\":{\"outlinewidth\":0,\"ticks\":\"\"}},\"type\":\"scatter3d\"}],\"scattercarpet\":[{\"marker\":{\"colorbar\":{\"outlinewidth\":0,\"ticks\":\"\"}},\"type\":\"scattercarpet\"}],\"scattergeo\":[{\"marker\":{\"colorbar\":{\"outlinewidth\":0,\"ticks\":\"\"}},\"type\":\"scattergeo\"}],\"scattergl\":[{\"marker\":{\"colorbar\":{\"outlinewidth\":0,\"ticks\":\"\"}},\"type\":\"scattergl\"}],\"scattermapbox\":[{\"marker\":{\"colorbar\":{\"outlinewidth\":0,\"ticks\":\"\"}},\"type\":\"scattermapbox\"}],\"scatterpolar\":[{\"marker\":{\"colorbar\":{\"outlinewidth\":0,\"ticks\":\"\"}},\"type\":\"scatterpolar\"}],\"scatterpolargl\":[{\"marker\":{\"colorbar\":{\"outlinewidth\":0,\"ticks\":\"\"}},\"type\":\"scatterpolargl\"}],\"scatterternary\":[{\"marker\":{\"colorbar\":{\"outlinewidth\":0,\"ticks\":\"\"}},\"type\":\"scatterternary\"}],\"surface\":[{\"colorbar\":{\"outlinewidth\":0,\"ticks\":\"\"},\"colorscale\":[[0.0,\"#0d0887\"],[0.1111111111111111,\"#46039f\"],[0.2222222222222222,\"#7201a8\"],[0.3333333333333333,\"#9c179e\"],[0.4444444444444444,\"#bd3786\"],[0.5555555555555556,\"#d8576b\"],[0.6666666666666666,\"#ed7953\"],[0.7777777777777778,\"#fb9f3a\"],[0.8888888888888888,\"#fdca26\"],[1.0,\"#f0f921\"]],\"type\":\"surface\"}],\"table\":[{\"cells\":{\"fill\":{\"color\":\"#EBF0F8\"},\"line\":{\"color\":\"white\"}},\"header\":{\"fill\":{\"color\":\"#C8D4E3\"},\"line\":{\"color\":\"white\"}},\"type\":\"table\"}]},\"layout\":{\"annotationdefaults\":{\"arrowcolor\":\"#2a3f5f\",\"arrowhead\":0,\"arrowwidth\":1},\"autotypenumbers\":\"strict\",\"coloraxis\":{\"colorbar\":{\"outlinewidth\":0,\"ticks\":\"\"}},\"colorscale\":{\"diverging\":[[0,\"#8e0152\"],[0.1,\"#c51b7d\"],[0.2,\"#de77ae\"],[0.3,\"#f1b6da\"],[0.4,\"#fde0ef\"],[0.5,\"#f7f7f7\"],[0.6,\"#e6f5d0\"],[0.7,\"#b8e186\"],[0.8,\"#7fbc41\"],[0.9,\"#4d9221\"],[1,\"#276419\"]],\"sequential\":[[0.0,\"#0d0887\"],[0.1111111111111111,\"#46039f\"],[0.2222222222222222,\"#7201a8\"],[0.3333333333333333,\"#9c179e\"],[0.4444444444444444,\"#bd3786\"],[0.5555555555555556,\"#d8576b\"],[0.6666666666666666,\"#ed7953\"],[0.7777777777777778,\"#fb9f3a\"],[0.8888888888888888,\"#fdca26\"],[1.0,\"#f0f921\"]],\"sequentialminus\":[[0.0,\"#0d0887\"],[0.1111111111111111,\"#46039f\"],[0.2222222222222222,\"#7201a8\"],[0.3333333333333333,\"#9c179e\"],[0.4444444444444444,\"#bd3786\"],[0.5555555555555556,\"#d8576b\"],[0.6666666666666666,\"#ed7953\"],[0.7777777777777778,\"#fb9f3a\"],[0.8888888888888888,\"#fdca26\"],[1.0,\"#f0f921\"]]},\"colorway\":[\"#636efa\",\"#EF553B\",\"#00cc96\",\"#ab63fa\",\"#FFA15A\",\"#19d3f3\",\"#FF6692\",\"#B6E880\",\"#FF97FF\",\"#FECB52\"],\"font\":{\"color\":\"#2a3f5f\"},\"geo\":{\"bgcolor\":\"white\",\"lakecolor\":\"white\",\"landcolor\":\"#E5ECF6\",\"showlakes\":true,\"showland\":true,\"subunitcolor\":\"white\"},\"hoverlabel\":{\"align\":\"left\"},\"hovermode\":\"closest\",\"mapbox\":{\"style\":\"light\"},\"paper_bgcolor\":\"white\",\"plot_bgcolor\":\"#E5ECF6\",\"polar\":{\"angularaxis\":{\"gridcolor\":\"white\",\"linecolor\":\"white\",\"ticks\":\"\"},\"bgcolor\":\"#E5ECF6\",\"radialaxis\":{\"gridcolor\":\"white\",\"linecolor\":\"white\",\"ticks\":\"\"}},\"scene\":{\"xaxis\":{\"backgroundcolor\":\"#E5ECF6\",\"gridcolor\":\"white\",\"gridwidth\":2,\"linecolor\":\"white\",\"showbackground\":true,\"ticks\":\"\",\"zerolinecolor\":\"white\"},\"yaxis\":{\"backgroundcolor\":\"#E5ECF6\",\"gridcolor\":\"white\",\"gridwidth\":2,\"linecolor\":\"white\",\"showbackground\":true,\"ticks\":\"\",\"zerolinecolor\":\"white\"},\"zaxis\":{\"backgroundcolor\":\"#E5ECF6\",\"gridcolor\":\"white\",\"gridwidth\":2,\"linecolor\":\"white\",\"showbackground\":true,\"ticks\":\"\",\"zerolinecolor\":\"white\"}},\"shapedefaults\":{\"line\":{\"color\":\"#2a3f5f\"}},\"ternary\":{\"aaxis\":{\"gridcolor\":\"white\",\"linecolor\":\"white\",\"ticks\":\"\"},\"baxis\":{\"gridcolor\":\"white\",\"linecolor\":\"white\",\"ticks\":\"\"},\"bgcolor\":\"#E5ECF6\",\"caxis\":{\"gridcolor\":\"white\",\"linecolor\":\"white\",\"ticks\":\"\"}},\"title\":{\"x\":0.05},\"xaxis\":{\"automargin\":true,\"gridcolor\":\"white\",\"linecolor\":\"white\",\"ticks\":\"\",\"title\":{\"standoff\":15},\"zerolinecolor\":\"white\",\"zerolinewidth\":2},\"yaxis\":{\"automargin\":true,\"gridcolor\":\"white\",\"linecolor\":\"white\",\"ticks\":\"\",\"title\":{\"standoff\":15},\"zerolinecolor\":\"white\",\"zerolinewidth\":2}}},\"xaxis\":{\"anchor\":\"y\",\"domain\":[0.0,1.0],\"title\":{\"text\":\"window\"}},\"yaxis\":{\"anchor\":\"x\",\"domain\":[0.0,1.0],\"title\":{\"text\":\"avg_close\"}},\"legend\":{\"tracegroupgap\":0},\"title\":{\"text\":\"AAPL Stock Price Trends\"}},                        {\"responsive\": true}                    )                };                            </script>        </div>\n",
       "</body>\n",
       "</html>"
      ]
     },
     "metadata": {
      "application/vnd.databricks.v1+output": {
       "addedWidgets": {},
       "arguments": {},
       "data": "<html>\n<head><meta charset=\"utf-8\" /></head>\n<body>\n    <div>            <script src=\"https://cdnjs.cloudflare.com/ajax/libs/mathjax/2.7.5/MathJax.js?config=TeX-AMS-MML_SVG\"></script><script type=\"text/javascript\">if (window.MathJax) {MathJax.Hub.Config({SVG: {font: \"STIX-Web\"}});}</script>                <script type=\"text/javascript\">window.PlotlyConfig = {MathJaxConfig: 'local'};</script>\n        <script src=\"https://cdn.plot.ly/plotly-2.9.0.min.js\"></script>                <div id=\"7ca6b55d-61b8-4a8c-8b4c-7c00bb892c0f\" class=\"plotly-graph-div\" style=\"height:100%; width:100%;\"></div>            <script type=\"text/javascript\">                                    window.PLOTLYENV=window.PLOTLYENV || {};                                    if (document.getElementById(\"7ca6b55d-61b8-4a8c-8b4c-7c00bb892c0f\")) {                    Plotly.newPlot(                        \"7ca6b55d-61b8-4a8c-8b4c-7c00bb892c0f\",                        [{\"hovertemplate\":\"window=%{x}<br>avg_close=%{y}<extra></extra>\",\"legendgroup\":\"\",\"line\":{\"color\":\"#636efa\",\"dash\":\"solid\"},\"marker\":{\"symbol\":\"circle\"},\"mode\":\"lines+markers\",\"name\":\"\",\"orientation\":\"v\",\"showlegend\":false,\"x\":[\"{'start': datetime.datetime(2025, 3, 25, 19, 15), 'end': datetime.datetime(2025, 3, 25, 19, 20)}\",\"{'start': datetime.datetime(2025, 3, 25, 19, 10), 'end': datetime.datetime(2025, 3, 25, 19, 15)}\",\"{'start': datetime.datetime(2025, 3, 25, 19, 50), 'end': datetime.datetime(2025, 3, 25, 19, 55)}\",\"{'start': datetime.datetime(2025, 3, 25, 19, 30), 'end': datetime.datetime(2025, 3, 25, 19, 35)}\",\"{'start': datetime.datetime(2025, 3, 25, 19, 35), 'end': datetime.datetime(2025, 3, 25, 19, 40)}\",\"{'start': datetime.datetime(2025, 3, 25, 19, 0), 'end': datetime.datetime(2025, 3, 25, 19, 5)}\",\"{'start': datetime.datetime(2025, 3, 25, 19, 25), 'end': datetime.datetime(2025, 3, 25, 19, 30)}\",\"{'start': datetime.datetime(2025, 3, 25, 19, 20), 'end': datetime.datetime(2025, 3, 25, 19, 25)}\",\"{'start': datetime.datetime(2025, 3, 25, 19, 40), 'end': datetime.datetime(2025, 3, 25, 19, 45)}\",\"{'start': datetime.datetime(2025, 3, 25, 19, 55), 'end': datetime.datetime(2025, 3, 25, 20, 0)}\",\"{'start': datetime.datetime(2025, 3, 25, 19, 45), 'end': datetime.datetime(2025, 3, 25, 19, 50)}\",\"{'start': datetime.datetime(2025, 3, 25, 19, 5), 'end': datetime.datetime(2025, 3, 25, 19, 10)}\",\"{'start': datetime.datetime(2025, 3, 25, 18, 50), 'end': datetime.datetime(2025, 3, 25, 18, 55)}\",\"{'start': datetime.datetime(2025, 3, 25, 18, 30), 'end': datetime.datetime(2025, 3, 25, 18, 35)}\",\"{'start': datetime.datetime(2025, 3, 25, 18, 10), 'end': datetime.datetime(2025, 3, 25, 18, 15)}\",\"{'start': datetime.datetime(2025, 3, 25, 18, 15), 'end': datetime.datetime(2025, 3, 25, 18, 20)}\",\"{'start': datetime.datetime(2025, 3, 25, 18, 0), 'end': datetime.datetime(2025, 3, 25, 18, 5)}\",\"{'start': datetime.datetime(2025, 3, 25, 18, 40), 'end': datetime.datetime(2025, 3, 25, 18, 45)}\",\"{'start': datetime.datetime(2025, 3, 25, 17, 55), 'end': datetime.datetime(2025, 3, 25, 18, 0)}\",\"{'start': datetime.datetime(2025, 3, 25, 18, 25), 'end': datetime.datetime(2025, 3, 25, 18, 30)}\",\"{'start': datetime.datetime(2025, 3, 25, 18, 45), 'end': datetime.datetime(2025, 3, 25, 18, 50)}\",\"{'start': datetime.datetime(2025, 3, 25, 18, 55), 'end': datetime.datetime(2025, 3, 25, 19, 0)}\",\"{'start': datetime.datetime(2025, 3, 25, 18, 20), 'end': datetime.datetime(2025, 3, 25, 18, 25)}\",\"{'start': datetime.datetime(2025, 3, 25, 18, 5), 'end': datetime.datetime(2025, 3, 25, 18, 10)}\",\"{'start': datetime.datetime(2025, 3, 25, 18, 35), 'end': datetime.datetime(2025, 3, 25, 18, 40)}\",\"{'start': datetime.datetime(2025, 3, 25, 17, 20), 'end': datetime.datetime(2025, 3, 25, 17, 25)}\",\"{'start': datetime.datetime(2025, 3, 25, 17, 30), 'end': datetime.datetime(2025, 3, 25, 17, 35)}\",\"{'start': datetime.datetime(2025, 3, 25, 17, 25), 'end': datetime.datetime(2025, 3, 25, 17, 30)}\",\"{'start': datetime.datetime(2025, 3, 25, 17, 5), 'end': datetime.datetime(2025, 3, 25, 17, 10)}\",\"{'start': datetime.datetime(2025, 3, 25, 16, 55), 'end': datetime.datetime(2025, 3, 25, 17, 0)}\",\"{'start': datetime.datetime(2025, 3, 25, 17, 0), 'end': datetime.datetime(2025, 3, 25, 17, 5)}\",\"{'start': datetime.datetime(2025, 3, 25, 17, 35), 'end': datetime.datetime(2025, 3, 25, 17, 40)}\",\"{'start': datetime.datetime(2025, 3, 25, 17, 10), 'end': datetime.datetime(2025, 3, 25, 17, 15)}\",\"{'start': datetime.datetime(2025, 3, 25, 17, 40), 'end': datetime.datetime(2025, 3, 25, 17, 45)}\",\"{'start': datetime.datetime(2025, 3, 25, 17, 45), 'end': datetime.datetime(2025, 3, 25, 17, 50)}\",\"{'start': datetime.datetime(2025, 3, 25, 17, 15), 'end': datetime.datetime(2025, 3, 25, 17, 20)}\",\"{'start': datetime.datetime(2025, 3, 25, 17, 50), 'end': datetime.datetime(2025, 3, 25, 17, 55)}\",\"{'start': datetime.datetime(2025, 3, 25, 16, 0), 'end': datetime.datetime(2025, 3, 25, 16, 5)}\",\"{'start': datetime.datetime(2025, 3, 25, 16, 10), 'end': datetime.datetime(2025, 3, 25, 16, 15)}\",\"{'start': datetime.datetime(2025, 3, 25, 16, 35), 'end': datetime.datetime(2025, 3, 25, 16, 40)}\",\"{'start': datetime.datetime(2025, 3, 25, 15, 50), 'end': datetime.datetime(2025, 3, 25, 15, 55)}\",\"{'start': datetime.datetime(2025, 3, 25, 16, 15), 'end': datetime.datetime(2025, 3, 25, 16, 20)}\",\"{'start': datetime.datetime(2025, 3, 25, 16, 30), 'end': datetime.datetime(2025, 3, 25, 16, 35)}\",\"{'start': datetime.datetime(2025, 3, 25, 16, 45), 'end': datetime.datetime(2025, 3, 25, 16, 50)}\",\"{'start': datetime.datetime(2025, 3, 25, 16, 5), 'end': datetime.datetime(2025, 3, 25, 16, 10)}\",\"{'start': datetime.datetime(2025, 3, 25, 16, 50), 'end': datetime.datetime(2025, 3, 25, 16, 55)}\",\"{'start': datetime.datetime(2025, 3, 25, 16, 25), 'end': datetime.datetime(2025, 3, 25, 16, 30)}\",\"{'start': datetime.datetime(2025, 3, 25, 15, 55), 'end': datetime.datetime(2025, 3, 25, 16, 0)}\",\"{'start': datetime.datetime(2025, 3, 25, 16, 20), 'end': datetime.datetime(2025, 3, 25, 16, 25)}\",\"{'start': datetime.datetime(2025, 3, 25, 16, 40), 'end': datetime.datetime(2025, 3, 25, 16, 45)}\",\"{'start': datetime.datetime(2025, 3, 25, 15, 35), 'end': datetime.datetime(2025, 3, 25, 15, 40)}\",\"{'start': datetime.datetime(2025, 3, 25, 15, 10), 'end': datetime.datetime(2025, 3, 25, 15, 15)}\",\"{'start': datetime.datetime(2025, 3, 25, 15, 30), 'end': datetime.datetime(2025, 3, 25, 15, 35)}\",\"{'start': datetime.datetime(2025, 3, 25, 15, 25), 'end': datetime.datetime(2025, 3, 25, 15, 30)}\",\"{'start': datetime.datetime(2025, 3, 25, 15, 40), 'end': datetime.datetime(2025, 3, 25, 15, 45)}\",\"{'start': datetime.datetime(2025, 3, 25, 15, 15), 'end': datetime.datetime(2025, 3, 25, 15, 20)}\",\"{'start': datetime.datetime(2025, 3, 25, 14, 50), 'end': datetime.datetime(2025, 3, 25, 14, 55)}\",\"{'start': datetime.datetime(2025, 3, 25, 14, 55), 'end': datetime.datetime(2025, 3, 25, 15, 0)}\",\"{'start': datetime.datetime(2025, 3, 25, 15, 20), 'end': datetime.datetime(2025, 3, 25, 15, 25)}\",\"{'start': datetime.datetime(2025, 3, 25, 15, 45), 'end': datetime.datetime(2025, 3, 25, 15, 50)}\",\"{'start': datetime.datetime(2025, 3, 25, 15, 0), 'end': datetime.datetime(2025, 3, 25, 15, 5)}\",\"{'start': datetime.datetime(2025, 3, 25, 15, 5), 'end': datetime.datetime(2025, 3, 25, 15, 10)}\",\"{'start': datetime.datetime(2025, 3, 25, 14, 25), 'end': datetime.datetime(2025, 3, 25, 14, 30)}\",\"{'start': datetime.datetime(2025, 3, 25, 13, 50), 'end': datetime.datetime(2025, 3, 25, 13, 55)}\",\"{'start': datetime.datetime(2025, 3, 25, 14, 30), 'end': datetime.datetime(2025, 3, 25, 14, 35)}\",\"{'start': datetime.datetime(2025, 3, 25, 13, 55), 'end': datetime.datetime(2025, 3, 25, 14, 0)}\",\"{'start': datetime.datetime(2025, 3, 25, 13, 45), 'end': datetime.datetime(2025, 3, 25, 13, 50)}\",\"{'start': datetime.datetime(2025, 3, 25, 14, 35), 'end': datetime.datetime(2025, 3, 25, 14, 40)}\",\"{'start': datetime.datetime(2025, 3, 25, 14, 0), 'end': datetime.datetime(2025, 3, 25, 14, 5)}\",\"{'start': datetime.datetime(2025, 3, 25, 14, 20), 'end': datetime.datetime(2025, 3, 25, 14, 25)}\",\"{'start': datetime.datetime(2025, 3, 25, 14, 40), 'end': datetime.datetime(2025, 3, 25, 14, 45)}\",\"{'start': datetime.datetime(2025, 3, 25, 14, 10), 'end': datetime.datetime(2025, 3, 25, 14, 15)}\",\"{'start': datetime.datetime(2025, 3, 25, 14, 45), 'end': datetime.datetime(2025, 3, 25, 14, 50)}\",\"{'start': datetime.datetime(2025, 3, 25, 14, 15), 'end': datetime.datetime(2025, 3, 25, 14, 20)}\",\"{'start': datetime.datetime(2025, 3, 25, 14, 5), 'end': datetime.datetime(2025, 3, 25, 14, 10)}\",\"{'start': datetime.datetime(2025, 3, 25, 13, 30), 'end': datetime.datetime(2025, 3, 25, 13, 35)}\",\"{'start': datetime.datetime(2025, 3, 25, 12, 50), 'end': datetime.datetime(2025, 3, 25, 12, 55)}\",\"{'start': datetime.datetime(2025, 3, 25, 13, 0), 'end': datetime.datetime(2025, 3, 25, 13, 5)}\",\"{'start': datetime.datetime(2025, 3, 25, 13, 35), 'end': datetime.datetime(2025, 3, 25, 13, 40)}\",\"{'start': datetime.datetime(2025, 3, 25, 13, 40), 'end': datetime.datetime(2025, 3, 25, 13, 45)}\",\"{'start': datetime.datetime(2025, 3, 25, 13, 10), 'end': datetime.datetime(2025, 3, 25, 13, 15)}\",\"{'start': datetime.datetime(2025, 3, 25, 13, 20), 'end': datetime.datetime(2025, 3, 25, 13, 25)}\",\"{'start': datetime.datetime(2025, 3, 25, 13, 5), 'end': datetime.datetime(2025, 3, 25, 13, 10)}\",\"{'start': datetime.datetime(2025, 3, 25, 12, 45), 'end': datetime.datetime(2025, 3, 25, 12, 50)}\",\"{'start': datetime.datetime(2025, 3, 25, 13, 25), 'end': datetime.datetime(2025, 3, 25, 13, 30)}\",\"{'start': datetime.datetime(2025, 3, 25, 13, 15), 'end': datetime.datetime(2025, 3, 25, 13, 20)}\",\"{'start': datetime.datetime(2025, 3, 25, 12, 55), 'end': datetime.datetime(2025, 3, 25, 13, 0)}\",\"{'start': datetime.datetime(2025, 3, 25, 12, 35), 'end': datetime.datetime(2025, 3, 25, 12, 40)}\",\"{'start': datetime.datetime(2025, 3, 25, 12, 10), 'end': datetime.datetime(2025, 3, 25, 12, 15)}\",\"{'start': datetime.datetime(2025, 3, 25, 12, 0), 'end': datetime.datetime(2025, 3, 25, 12, 5)}\",\"{'start': datetime.datetime(2025, 3, 25, 11, 40), 'end': datetime.datetime(2025, 3, 25, 11, 45)}\",\"{'start': datetime.datetime(2025, 3, 25, 12, 40), 'end': datetime.datetime(2025, 3, 25, 12, 45)}\",\"{'start': datetime.datetime(2025, 3, 25, 12, 5), 'end': datetime.datetime(2025, 3, 25, 12, 10)}\",\"{'start': datetime.datetime(2025, 3, 25, 11, 55), 'end': datetime.datetime(2025, 3, 25, 12, 0)}\",\"{'start': datetime.datetime(2025, 3, 25, 12, 30), 'end': datetime.datetime(2025, 3, 25, 12, 35)}\",\"{'start': datetime.datetime(2025, 3, 25, 12, 20), 'end': datetime.datetime(2025, 3, 25, 12, 25)}\",\"{'start': datetime.datetime(2025, 3, 25, 12, 15), 'end': datetime.datetime(2025, 3, 25, 12, 20)}\",\"{'start': datetime.datetime(2025, 3, 25, 11, 45), 'end': datetime.datetime(2025, 3, 25, 11, 50)}\",\"{'start': datetime.datetime(2025, 3, 25, 12, 25), 'end': datetime.datetime(2025, 3, 25, 12, 30)}\",\"{'start': datetime.datetime(2025, 3, 25, 11, 50), 'end': datetime.datetime(2025, 3, 25, 11, 55)}\"],\"xaxis\":\"x\",\"y\":[224.07,224.07,224.1,224.1,224.0701,224.02,224.1,224.02,224.07,224.24,224.28,224.07,224.07,223.96,223.9999,224.1,223.9,224.07,223.9,224.0,224.1,224.01,224.1,223.89,224.05,223.8,223.8,223.87,223.82,223.66,223.79,223.91,223.8,223.95,223.96,223.82,223.95,223.73,223.55,223.86,223.67,223.52,223.85,223.75,223.7,223.738,223.7,223.73,223.67,223.75,223.68,223.2,223.45,223.39,223.77,223.16,222.99,222.8029,223.545,223.925,222.9356,223.065,223.49,223.0602,223.67,222.985,222.715,223.335,223.18,223.67,223.21,223.78,223.0792,223.73,223.565,222.7016,223.14,223.36,222.745,222.8737,223.465,223.04,223.555,223.12,222.81,223.1287,223.1,223.1494,223.3961,223.2753,223.395,223.165,223.24,223.5369,222.92,223.1745,223.14,223.445,223.11,223.409],\"yaxis\":\"y\",\"type\":\"scatter\"}],                        {\"template\":{\"data\":{\"bar\":[{\"error_x\":{\"color\":\"#2a3f5f\"},\"error_y\":{\"color\":\"#2a3f5f\"},\"marker\":{\"line\":{\"color\":\"#E5ECF6\",\"width\":0.5},\"pattern\":{\"fillmode\":\"overlay\",\"size\":10,\"solidity\":0.2}},\"type\":\"bar\"}],\"barpolar\":[{\"marker\":{\"line\":{\"color\":\"#E5ECF6\",\"width\":0.5},\"pattern\":{\"fillmode\":\"overlay\",\"size\":10,\"solidity\":0.2}},\"type\":\"barpolar\"}],\"carpet\":[{\"aaxis\":{\"endlinecolor\":\"#2a3f5f\",\"gridcolor\":\"white\",\"linecolor\":\"white\",\"minorgridcolor\":\"white\",\"startlinecolor\":\"#2a3f5f\"},\"baxis\":{\"endlinecolor\":\"#2a3f5f\",\"gridcolor\":\"white\",\"linecolor\":\"white\",\"minorgridcolor\":\"white\",\"startlinecolor\":\"#2a3f5f\"},\"type\":\"carpet\"}],\"choropleth\":[{\"colorbar\":{\"outlinewidth\":0,\"ticks\":\"\"},\"type\":\"choropleth\"}],\"contour\":[{\"colorbar\":{\"outlinewidth\":0,\"ticks\":\"\"},\"colorscale\":[[0.0,\"#0d0887\"],[0.1111111111111111,\"#46039f\"],[0.2222222222222222,\"#7201a8\"],[0.3333333333333333,\"#9c179e\"],[0.4444444444444444,\"#bd3786\"],[0.5555555555555556,\"#d8576b\"],[0.6666666666666666,\"#ed7953\"],[0.7777777777777778,\"#fb9f3a\"],[0.8888888888888888,\"#fdca26\"],[1.0,\"#f0f921\"]],\"type\":\"contour\"}],\"contourcarpet\":[{\"colorbar\":{\"outlinewidth\":0,\"ticks\":\"\"},\"type\":\"contourcarpet\"}],\"heatmap\":[{\"colorbar\":{\"outlinewidth\":0,\"ticks\":\"\"},\"colorscale\":[[0.0,\"#0d0887\"],[0.1111111111111111,\"#46039f\"],[0.2222222222222222,\"#7201a8\"],[0.3333333333333333,\"#9c179e\"],[0.4444444444444444,\"#bd3786\"],[0.5555555555555556,\"#d8576b\"],[0.6666666666666666,\"#ed7953\"],[0.7777777777777778,\"#fb9f3a\"],[0.8888888888888888,\"#fdca26\"],[1.0,\"#f0f921\"]],\"type\":\"heatmap\"}],\"heatmapgl\":[{\"colorbar\":{\"outlinewidth\":0,\"ticks\":\"\"},\"colorscale\":[[0.0,\"#0d0887\"],[0.1111111111111111,\"#46039f\"],[0.2222222222222222,\"#7201a8\"],[0.3333333333333333,\"#9c179e\"],[0.4444444444444444,\"#bd3786\"],[0.5555555555555556,\"#d8576b\"],[0.6666666666666666,\"#ed7953\"],[0.7777777777777778,\"#fb9f3a\"],[0.8888888888888888,\"#fdca26\"],[1.0,\"#f0f921\"]],\"type\":\"heatmapgl\"}],\"histogram\":[{\"marker\":{\"pattern\":{\"fillmode\":\"overlay\",\"size\":10,\"solidity\":0.2}},\"type\":\"histogram\"}],\"histogram2d\":[{\"colorbar\":{\"outlinewidth\":0,\"ticks\":\"\"},\"colorscale\":[[0.0,\"#0d0887\"],[0.1111111111111111,\"#46039f\"],[0.2222222222222222,\"#7201a8\"],[0.3333333333333333,\"#9c179e\"],[0.4444444444444444,\"#bd3786\"],[0.5555555555555556,\"#d8576b\"],[0.6666666666666666,\"#ed7953\"],[0.7777777777777778,\"#fb9f3a\"],[0.8888888888888888,\"#fdca26\"],[1.0,\"#f0f921\"]],\"type\":\"histogram2d\"}],\"histogram2dcontour\":[{\"colorbar\":{\"outlinewidth\":0,\"ticks\":\"\"},\"colorscale\":[[0.0,\"#0d0887\"],[0.1111111111111111,\"#46039f\"],[0.2222222222222222,\"#7201a8\"],[0.3333333333333333,\"#9c179e\"],[0.4444444444444444,\"#bd3786\"],[0.5555555555555556,\"#d8576b\"],[0.6666666666666666,\"#ed7953\"],[0.7777777777777778,\"#fb9f3a\"],[0.8888888888888888,\"#fdca26\"],[1.0,\"#f0f921\"]],\"type\":\"histogram2dcontour\"}],\"mesh3d\":[{\"colorbar\":{\"outlinewidth\":0,\"ticks\":\"\"},\"type\":\"mesh3d\"}],\"parcoords\":[{\"line\":{\"colorbar\":{\"outlinewidth\":0,\"ticks\":\"\"}},\"type\":\"parcoords\"}],\"pie\":[{\"automargin\":true,\"type\":\"pie\"}],\"scatter\":[{\"marker\":{\"colorbar\":{\"outlinewidth\":0,\"ticks\":\"\"}},\"type\":\"scatter\"}],\"scatter3d\":[{\"line\":{\"colorbar\":{\"outlinewidth\":0,\"ticks\":\"\"}},\"marker\":{\"colorbar\":{\"outlinewidth\":0,\"ticks\":\"\"}},\"type\":\"scatter3d\"}],\"scattercarpet\":[{\"marker\":{\"colorbar\":{\"outlinewidth\":0,\"ticks\":\"\"}},\"type\":\"scattercarpet\"}],\"scattergeo\":[{\"marker\":{\"colorbar\":{\"outlinewidth\":0,\"ticks\":\"\"}},\"type\":\"scattergeo\"}],\"scattergl\":[{\"marker\":{\"colorbar\":{\"outlinewidth\":0,\"ticks\":\"\"}},\"type\":\"scattergl\"}],\"scattermapbox\":[{\"marker\":{\"colorbar\":{\"outlinewidth\":0,\"ticks\":\"\"}},\"type\":\"scattermapbox\"}],\"scatterpolar\":[{\"marker\":{\"colorbar\":{\"outlinewidth\":0,\"ticks\":\"\"}},\"type\":\"scatterpolar\"}],\"scatterpolargl\":[{\"marker\":{\"colorbar\":{\"outlinewidth\":0,\"ticks\":\"\"}},\"type\":\"scatterpolargl\"}],\"scatterternary\":[{\"marker\":{\"colorbar\":{\"outlinewidth\":0,\"ticks\":\"\"}},\"type\":\"scatterternary\"}],\"surface\":[{\"colorbar\":{\"outlinewidth\":0,\"ticks\":\"\"},\"colorscale\":[[0.0,\"#0d0887\"],[0.1111111111111111,\"#46039f\"],[0.2222222222222222,\"#7201a8\"],[0.3333333333333333,\"#9c179e\"],[0.4444444444444444,\"#bd3786\"],[0.5555555555555556,\"#d8576b\"],[0.6666666666666666,\"#ed7953\"],[0.7777777777777778,\"#fb9f3a\"],[0.8888888888888888,\"#fdca26\"],[1.0,\"#f0f921\"]],\"type\":\"surface\"}],\"table\":[{\"cells\":{\"fill\":{\"color\":\"#EBF0F8\"},\"line\":{\"color\":\"white\"}},\"header\":{\"fill\":{\"color\":\"#C8D4E3\"},\"line\":{\"color\":\"white\"}},\"type\":\"table\"}]},\"layout\":{\"annotationdefaults\":{\"arrowcolor\":\"#2a3f5f\",\"arrowhead\":0,\"arrowwidth\":1},\"autotypenumbers\":\"strict\",\"coloraxis\":{\"colorbar\":{\"outlinewidth\":0,\"ticks\":\"\"}},\"colorscale\":{\"diverging\":[[0,\"#8e0152\"],[0.1,\"#c51b7d\"],[0.2,\"#de77ae\"],[0.3,\"#f1b6da\"],[0.4,\"#fde0ef\"],[0.5,\"#f7f7f7\"],[0.6,\"#e6f5d0\"],[0.7,\"#b8e186\"],[0.8,\"#7fbc41\"],[0.9,\"#4d9221\"],[1,\"#276419\"]],\"sequential\":[[0.0,\"#0d0887\"],[0.1111111111111111,\"#46039f\"],[0.2222222222222222,\"#7201a8\"],[0.3333333333333333,\"#9c179e\"],[0.4444444444444444,\"#bd3786\"],[0.5555555555555556,\"#d8576b\"],[0.6666666666666666,\"#ed7953\"],[0.7777777777777778,\"#fb9f3a\"],[0.8888888888888888,\"#fdca26\"],[1.0,\"#f0f921\"]],\"sequentialminus\":[[0.0,\"#0d0887\"],[0.1111111111111111,\"#46039f\"],[0.2222222222222222,\"#7201a8\"],[0.3333333333333333,\"#9c179e\"],[0.4444444444444444,\"#bd3786\"],[0.5555555555555556,\"#d8576b\"],[0.6666666666666666,\"#ed7953\"],[0.7777777777777778,\"#fb9f3a\"],[0.8888888888888888,\"#fdca26\"],[1.0,\"#f0f921\"]]},\"colorway\":[\"#636efa\",\"#EF553B\",\"#00cc96\",\"#ab63fa\",\"#FFA15A\",\"#19d3f3\",\"#FF6692\",\"#B6E880\",\"#FF97FF\",\"#FECB52\"],\"font\":{\"color\":\"#2a3f5f\"},\"geo\":{\"bgcolor\":\"white\",\"lakecolor\":\"white\",\"landcolor\":\"#E5ECF6\",\"showlakes\":true,\"showland\":true,\"subunitcolor\":\"white\"},\"hoverlabel\":{\"align\":\"left\"},\"hovermode\":\"closest\",\"mapbox\":{\"style\":\"light\"},\"paper_bgcolor\":\"white\",\"plot_bgcolor\":\"#E5ECF6\",\"polar\":{\"angularaxis\":{\"gridcolor\":\"white\",\"linecolor\":\"white\",\"ticks\":\"\"},\"bgcolor\":\"#E5ECF6\",\"radialaxis\":{\"gridcolor\":\"white\",\"linecolor\":\"white\",\"ticks\":\"\"}},\"scene\":{\"xaxis\":{\"backgroundcolor\":\"#E5ECF6\",\"gridcolor\":\"white\",\"gridwidth\":2,\"linecolor\":\"white\",\"showbackground\":true,\"ticks\":\"\",\"zerolinecolor\":\"white\"},\"yaxis\":{\"backgroundcolor\":\"#E5ECF6\",\"gridcolor\":\"white\",\"gridwidth\":2,\"linecolor\":\"white\",\"showbackground\":true,\"ticks\":\"\",\"zerolinecolor\":\"white\"},\"zaxis\":{\"backgroundcolor\":\"#E5ECF6\",\"gridcolor\":\"white\",\"gridwidth\":2,\"linecolor\":\"white\",\"showbackground\":true,\"ticks\":\"\",\"zerolinecolor\":\"white\"}},\"shapedefaults\":{\"line\":{\"color\":\"#2a3f5f\"}},\"ternary\":{\"aaxis\":{\"gridcolor\":\"white\",\"linecolor\":\"white\",\"ticks\":\"\"},\"baxis\":{\"gridcolor\":\"white\",\"linecolor\":\"white\",\"ticks\":\"\"},\"bgcolor\":\"#E5ECF6\",\"caxis\":{\"gridcolor\":\"white\",\"linecolor\":\"white\",\"ticks\":\"\"}},\"title\":{\"x\":0.05},\"xaxis\":{\"automargin\":true,\"gridcolor\":\"white\",\"linecolor\":\"white\",\"ticks\":\"\",\"title\":{\"standoff\":15},\"zerolinecolor\":\"white\",\"zerolinewidth\":2},\"yaxis\":{\"automargin\":true,\"gridcolor\":\"white\",\"linecolor\":\"white\",\"ticks\":\"\",\"title\":{\"standoff\":15},\"zerolinecolor\":\"white\",\"zerolinewidth\":2}}},\"xaxis\":{\"anchor\":\"y\",\"domain\":[0.0,1.0],\"title\":{\"text\":\"window\"}},\"yaxis\":{\"anchor\":\"x\",\"domain\":[0.0,1.0],\"title\":{\"text\":\"avg_close\"}},\"legend\":{\"tracegroupgap\":0},\"title\":{\"text\":\"AAPL Stock Price Trends\"}},                        {\"responsive\": true}                    )                };                            </script>        </div>\n</body>\n</html>",
       "datasetInfos": [],
       "metadata": {},
       "removedWidgets": [],
       "textData": null,
       "type": "htmlSandbox"
      }
     },
     "output_type": "display_data"
    }
   ],
   "source": [
    "import plotly.express as px\n",
    "\n",
    "pandas_df.dropna(subset=[\"window\", \"avg_close\"], inplace=True)  # Remove missing values\n",
    "pandas_df[\"window\"] = pandas_df[\"window\"].astype(str)  # Ensure window is string\n",
    "\n",
    "fig = px.line(pandas_df, x=\"window\", y=\"avg_close\", title=f\"{STOCK_SYMBOL} Stock Price Trends\", markers=True)\n",
    "fig.show()\n"
   ]
  }
 ],
 "metadata": {
  "application/vnd.databricks.v1+notebook": {
   "computePreferences": null,
   "dashboards": [],
   "environmentMetadata": {
    "base_environment": "",
    "environment_version": "1"
   },
   "inputWidgetPreferences": null,
   "language": "python",
   "notebookMetadata": {
    "mostRecentlyExecutedCommandWithImplicitDF": {
     "commandId": 4451943086988107,
     "dataframes": [
      "_sqldf"
     ]
    },
    "pythonIndentUnit": 4
   },
   "notebookName": "Pyspark Practice",
   "widgets": {}
  }
 },
 "nbformat": 4,
 "nbformat_minor": 0
}